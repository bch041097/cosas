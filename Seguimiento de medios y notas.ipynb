{
 "cells": [
  {
   "cell_type": "markdown",
   "id": "99ded448f3969ac3",
   "metadata": {},
   "source": [
    "### Rastreo de noticias en Google News sobre temas de la Ciudad de México que competan o sean de interés del Instituto de Planeación de la Ciudad de México\n",
    "\n",
    "El script extrae las notas de Google News de los temas de agua, movilidad, planeación, salud y seguridad de la Ciudad de México. El script extrae los títulos, url y fecha de las notas."
   ]
  },
  {
   "cell_type": "code",
   "execution_count": 82,
   "id": "2dc0e4eacf2e9110",
   "metadata": {
    "ExecuteTime": {
     "end_time": "2025-03-13T19:52:48.817978Z",
     "start_time": "2025-03-13T19:52:48.807538Z"
    }
   },
   "outputs": [],
   "source": [
    "import requests\n",
    "import pandas as pd\n",
    "import re\n",
    "from bs4 import BeautifulSoup\n",
    "from docx import Document\n",
    "from docx.shared import RGBColor\n",
    "from docx.oxml import OxmlElement\n",
    "from docx.oxml.ns import qn\n",
    "from docx.shared import Pt"
   ]
  },
  {
   "cell_type": "markdown",
   "id": "7609707c",
   "metadata": {},
   "source": [
    "Extraer notas a partir de los temas relevantes y palabras clave para localizarlos en Ciudad de México"
   ]
  },
  {
   "cell_type": "code",
   "execution_count": 83,
   "id": "7f137db178e47a17",
   "metadata": {
    "ExecuteTime": {
     "end_time": "2025-03-13T19:52:48.832853Z",
     "start_time": "2025-03-13T19:52:48.829681Z"
    }
   },
   "outputs": [],
   "source": [
    "# Temas para la búsqueda\n",
    "temas = [\n",
    "    \"infraestructura\", \"agua\", \"pgd\", \"pgot\", \n",
    "    \"ordenamiento%20territorial\", \"movilidad\", \n",
    "    \"salud\", \"gestión%20de%20riesgos\", \"seguridad%20publica\", \n",
    "    \"participación%20ciudadana\", \"medio%20ambiente\", \"cultura\", \n",
    "    \"asentamientos%20irregulares\", \"ipdp\", \n",
    "    \"transporte%20publico\", \"planeacion\", \"espacio%20publico\"\n",
    "]"
   ]
  },
  {
   "cell_type": "code",
   "execution_count": null,
   "id": "ca5dce60",
   "metadata": {},
   "outputs": [],
   "source": [
    "#Palabras clave para filtrar solo noticias de la Ciudad de México\n",
    "palabras_clave_cdmx = [\n",
    "    \"Ciudad de México\", \"CDMX\", \"Iztapalapa\", \"Coyoacán\", \"Cuauhtémoc\", \"Benito Juárez\", \n",
    "    \"Miguel Hidalgo\", \"Xochimilco\", \"Tlalpan\", \"Gustavo A. Madero\", \"Venustiano Carranza\",\n",
    "    \"Azcapotzalco\", \"Tláhuac\", \"Álvaro Obregón\", \"Milpa Alta\", \"Magdalena Contreras\"\n",
    "]"
   ]
  },
  {
   "cell_type": "code",
   "execution_count": null,
   "id": "56d8c8c4",
   "metadata": {},
   "outputs": [],
   "source": [
    "#Lista de medios relevantes\n",
    "medios = [\n",
    "    'infobae', 'La Prensa', 'Debate', 'MSN México', 'La Crónica de Hoy', 'El Universal',\n",
    "    'REFORMA', 'MVS Noticias', 'SinEmbargo MX', 'Cuarto Poder', 'Reporte Indigo',\n",
    "    'Eje Central', 'Gobierno de la Ciudad de México', 'La Silla Rota', 'MSN', \n",
    "    'Gobierno de México', 'Animal Político', 'Periódico AM', 'La Razón de México',\n",
    "    'Periódico Excélsior', 'Radio Fórmula', 'N+', 'La Izquierda Diario', 'Milenio',\n",
    "    'SSC-CdMx', 'Infobae México', 'TV Azteca', 'Quadratín México', 'ContraRéplica',\n",
    "    'La Jornada', 'Uno TV Noticias', 'Secretaría de Gestión Integral de Riesgos y Protección Civil',\n",
    "    'Telediario CDMX', 'Ovaciones', 'ADN 40', 'La-Lista', 'El Heraldo de México',\n",
    "    'IECM', 'El Economista', 'RTVE', 'EL PAÍS'\n",
    "]\n",
    "\n",
    "#Convertir la lista de medios en una expresión regular\n",
    "medios_regex = '|'.join(map(re.escape, medios))"
   ]
  },
  {
   "cell_type": "code",
   "execution_count": null,
   "id": "3e35011b",
   "metadata": {},
   "outputs": [],
   "source": [
    "#Función para extraer notas\n",
    "def get_notas(tema, periodo):\n",
    "    headers = {'User-Agent': 'Mozilla/5.0 (Windows NT 10.0; Win64; x64) AppleWebKit/537.36 (KHTML, like Gecko) Chrome/134.0.0.0 Safari/537.36'}\n",
    "    \n",
    "    url = f'https://news.google.com/search?q={tema}%20ciudad%20de%20mexico%20when%3A{periodo}d&hl=es-419&gl=MX&ceid=MX%3Aes-419'\n",
    "    response = requests.get(url, headers=headers)\n",
    "    sopa = BeautifulSoup(response.text, 'html.parser')\n",
    "    resultados = sopa.find_all('article')\n",
    "    \n",
    "    #Listas para almacenar datos\n",
    "    titulos, urls, fechas, medios_lista = [], [], [], []\n",
    "\n",
    "    for resultado in resultados:\n",
    "        #Extraer título\n",
    "        titulo_elem = resultado.find('a', class_='JtKRv')\n",
    "        titulo = titulo_elem.text.strip() if titulo_elem else None\n",
    "\n",
    "        #Extraer URL\n",
    "        url_elem = resultado.find('a')\n",
    "        url = 'https://news.google.com' + url_elem.get('href')[1:] if url_elem and url_elem.get('href') else None\n",
    "\n",
    "        #Extraer fecha\n",
    "        fecha_elem = resultado.find('time')\n",
    "        fecha = fecha_elem['datetime'] if fecha_elem else None\n",
    "\n",
    "        #Extraer medio\n",
    "        medio_elem = resultado.find('div', class_='vr1PYe')\n",
    "        medio = medio_elem.text.strip() if medio_elem else None\n",
    "\n",
    "        #Guardar en listas\n",
    "        titulos.append(titulo)\n",
    "        urls.append(url)\n",
    "        fechas.append(fecha)\n",
    "        medios_lista.append(medio)\n",
    "\n",
    "    #Crear DataFrame\n",
    "    df = pd.DataFrame({\n",
    "        'titulo': titulos,\n",
    "        'url': urls,\n",
    "        'fecha_nota': fechas,\n",
    "        'medio': medios_lista,\n",
    "        'fecha_consulta': pd.to_datetime('today').strftime('%Y-%m-%d'),\n",
    "        'tema': tema\n",
    "    })\n",
    "\n",
    "    return df"
   ]
  },
  {
   "cell_type": "code",
   "execution_count": null,
   "id": "8fe0f955",
   "metadata": {},
   "outputs": [],
   "source": [
    "periodo =  1 #Definir el periodo de busqueda por días \n",
    "\n",
    "#Extraer notas de todos los temas en un dolo dataframe\n",
    "consolidado_notas = pd.concat([get_notas(tema, periodo) for tema in temas], ignore_index=True)\n",
    "\n",
    "#Filtrar notas de los medios definidos\n",
    "consolidado_filtrado = consolidado_notas[consolidado_notas['medio'].fillna('').str.contains(medios_regex, regex=True)]\n",
    "\n",
    "#Filtrar por palabras clave de CDMX\n",
    "consolidado_final = consolidado_filtrado[consolidado_filtrado['titulo'].fillna('').str.contains('|'.join(palabras_clave_cdmx), regex=True, case=False)]\n"
   ]
  },
  {
   "cell_type": "code",
   "execution_count": null,
   "id": "80892fcd",
   "metadata": {},
   "outputs": [
    {
     "name": "stdout",
     "output_type": "stream",
     "text": [
      "Total de notas encontradas: 439\n",
      "Notas filtradas por medios: 220\n",
      "Notas finales filtrando por palabras clave: 108\n"
     ]
    }
   ],
   "source": [
    "#Mostrar resultados\n",
    "print(f'Total de notas encontradas: {len(consolidado_notas)}')\n",
    "print(f'Notas filtradas por medios: {len(consolidado_filtrado)}')\n",
    "print(f'Notas finales filtrando por palabras clave: {len(consolidado_final)}')"
   ]
  },
  {
   "cell_type": "code",
   "execution_count": null,
   "id": "2acac7fd",
   "metadata": {},
   "outputs": [],
   "source": [
    "#Guardar en Excel\n",
    "consolidado_final.to_excel(\"noticias_cdmx.xlsx\", index=False)\n"
   ]
  },
  {
   "cell_type": "markdown",
   "id": "8702560c",
   "metadata": {},
   "source": [
    "Almacenar las notas en el formato de entrega"
   ]
  },
  {
   "cell_type": "code",
   "execution_count": null,
   "id": "0b951b68",
   "metadata": {},
   "outputs": [],
   "source": [
    "#Función para agregar hipervínculos en las notas\n",
    "def add_hyperlink(paragraph, text, url):\n",
    "    \"\"\"\n",
    "    Agrega un hipervínculo a un párrafo en un documento de Word.\n",
    "    \"\"\"\n",
    "    part = paragraph._parent.part\n",
    "    r_id = part.relate_to(url, \"http://schemas.openxmlformats.org/officeDocument/2006/relationships/hyperlink\", is_external=True)\n",
    "\n",
    "    hyperlink = OxmlElement(\"w:hyperlink\")\n",
    "    hyperlink.set(qn(\"r:id\"), r_id)\n",
    "\n",
    "    run = OxmlElement(\"w:r\")\n",
    "    hyperlink.append(run)\n",
    "\n",
    "    rPr = OxmlElement(\"w:rPr\")\n",
    "    color = OxmlElement(\"w:color\")\n",
    "    color.set(qn(\"w:val\"), \"0000FF\")  #Azul\n",
    "    rPr.append(color)\n",
    "\n",
    "    underline = OxmlElement(\"w:u\")\n",
    "    underline.set(qn(\"w:val\"), \"single\")\n",
    "    rPr.append(underline)\n",
    "\n",
    "    run.append(rPr)\n",
    "\n",
    "    text_element = OxmlElement(\"w:t\")\n",
    "    text_element.text = text\n",
    "    run.append(text_element)\n",
    "\n",
    "    paragraph._element.append(hyperlink)"
   ]
  },
  {
   "cell_type": "code",
   "execution_count": null,
   "id": "37d5b2ae",
   "metadata": {},
   "outputs": [],
   "source": [
    "#Cargar el archivo Excel\n",
    "df = pd.read_excel(\"noticias_cdmx.xlsx\")"
   ]
  },
  {
   "cell_type": "code",
   "execution_count": null,
   "id": "111cf7cf",
   "metadata": {},
   "outputs": [],
   "source": [
    "#Limpiar valores nulos en 'medio', 'url' y 'fecha_nota'\n",
    "df['medio'] = df['medio'].fillna('Fuente desconocida')\n",
    "df['url'] = df['url'].fillna('#')  # Evita errores en enlaces vacíos\n",
    "\n",
    "#Formato año, mes y día eliminandio el formato de fecha de la busqueda\n",
    "df['fecha_nota'] = pd.to_datetime(df['fecha_nota'], errors='coerce').dt.strftime('%Y-%m-%d')\n",
    "\n",
    "#Reemplazar '%20' con espacios en los temas\n",
    "df['tema'] = df['tema'].str.replace('%20', ' ', regex=False)\n",
    "\n",
    "#Agrupar los temas por cada nota (para evitar duplicados de filas)\n",
    "df_grouped = df.groupby(['fecha_nota', 'medio', 'titulo', 'url']).agg({'tema': lambda x: ', '.join(set(x))}).reset_index()"
   ]
  },
  {
   "cell_type": "code",
   "execution_count": null,
   "id": "cf5492ee",
   "metadata": {},
   "outputs": [],
   "source": [
    "#Crear un documento de Word\n",
    "doc = Document()\n"
   ]
  },
  {
   "cell_type": "code",
   "execution_count": null,
   "id": "a9119c78",
   "metadata": {},
   "outputs": [
    {
     "data": {
      "text/plain": [
       "<docx.text.paragraph.Paragraph at 0x141cfc740>"
      ]
     },
     "execution_count": 94,
     "metadata": {},
     "output_type": "execute_result"
    }
   ],
   "source": [
    "#Agregar el título y los subtítulos\n",
    "doc.add_heading(\"Monitoreo de Medios y Redes Sociales\", level=1)\n",
    "doc.add_paragraph(\"Temas prioritarios de planeación de la Ciudad de México\")\n",
    "doc.add_paragraph(f\"Informe con corte al día {pd.to_datetime(\"today\").strftime('%d de %B de %Y')}\")\n",
    "\n"
   ]
  },
  {
   "cell_type": "code",
   "execution_count": null,
   "id": "4676a731",
   "metadata": {},
   "outputs": [],
   "source": [
    "#Encabezados de la tabla\n",
    "table = doc.add_table(rows=1, cols=4)\n",
    "table.style = 'Table Grid'\n",
    "hdr_cells = table.rows[0].cells\n",
    "hdr_cells[0].text = \"Fecha de la nota\"\n",
    "hdr_cells[1].text = \"Fuente\"\n",
    "hdr_cells[2].text = \"Idea central\"\n",
    "hdr_cells[3].text = \"Temas\""
   ]
  },
  {
   "cell_type": "code",
   "execution_count": 103,
   "id": "05a035ee",
   "metadata": {},
   "outputs": [],
   "source": [
    "#Llenar la tabla con los datos de las notas\n",
    "for _, row in df_grouped.iterrows():\n",
    "    row_cells = table.add_row().cells\n",
    "    row_cells[0].text = row[\"fecha_nota\"] if pd.notna(row[\"fecha_nota\"]) else \"No encontrado\"\n",
    "    \n",
    "    #Agregar el hipervínculo en la celda del medio\n",
    "    p = row_cells[1].paragraphs[0]\n",
    "    add_hyperlink(p, row[\"medio\"], row[\"url\"])\n",
    "    \n",
    "    row_cells[2].text = row[\"titulo\"]\n",
    "    row_cells[3].text = row[\"tema\"]\n"
   ]
  },
  {
   "cell_type": "code",
   "execution_count": 104,
   "id": "dd91c94a",
   "metadata": {},
   "outputs": [],
   "source": [
    "# Guardar el archivo en formato Word\n",
    "doc.save(\"Monitoreo_Medios_y_Redes_.docx\")\n"
   ]
  }
 ],
 "metadata": {
  "kernelspec": {
   "display_name": "Python 3",
   "language": "python",
   "name": "python3"
  },
  "language_info": {
   "codemirror_mode": {
    "name": "ipython",
    "version": 3
   },
   "file_extension": ".py",
   "mimetype": "text/x-python",
   "name": "python",
   "nbconvert_exporter": "python",
   "pygments_lexer": "ipython3",
   "version": "3.12.3"
  }
 },
 "nbformat": 4,
 "nbformat_minor": 5
}
