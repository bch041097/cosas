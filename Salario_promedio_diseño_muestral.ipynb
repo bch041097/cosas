{
 "cells": [
  {
   "cell_type": "markdown",
   "metadata": {},
   "source": [
    "Prueba de cálculo de salario promedio general  y desagregado por sexo en la Ciudad de México\n",
    "\n",
    "Serie longitudinal: últimos trimestres de 2021-2024"
   ]
  },
  {
   "cell_type": "code",
   "execution_count": 3,
   "metadata": {
    "vscode": {
     "languageId": "r"
    }
   },
   "outputs": [],
   "source": [
    "if(! require('pacman')) install.packages('pacman')\n",
    "pacman::p_load(tidyverse, srvyr, janitor, stringr, writexl)"
   ]
  },
  {
   "cell_type": "markdown",
   "metadata": {},
   "source": [
    "Descargar y leer los archivos csv"
   ]
  },
  {
   "cell_type": "code",
   "execution_count": 4,
   "metadata": {
    "vscode": {
     "languageId": "r"
    }
   },
   "outputs": [],
   "source": [
    "dir_datos <- 'enoe_datos'\n",
    "if (!dir.exists(dir_datos)) {\n",
    "    dir.create(dir_datos)\n",
    "}"
   ]
  },
  {
   "cell_type": "code",
   "execution_count": 5,
   "metadata": {
    "vscode": {
     "languageId": "r"
    }
   },
   "outputs": [],
   "source": [
    "descargar_enoe_csv <- function() {\n",
    "    options(timeout = 90000)\n",
    "\n",
    "    descargar_extraer <- function(url, destino) {\n",
    "        temp <- tempfile()\n",
    "        download.file(url, temp, mode = 'wb')\n",
    "        unzip(temp, exdir = destino)\n",
    "        unlink(temp)\n",
    "\n",
    "    }\n",
    "    \n",
    "    #iterar los años de descarga    \n",
    "    for(i in 21:22) {\n",
    "        url <- paste0('https://www.inegi.org.mx/contenidos/programas/enoe/15ymas/microdatos/enoe_n_20', i, '_trim4_csv.zip')\n",
    "        descargar_extraer(url, dir_datos)\n",
    "    }\n",
    "\n",
    "    for(i in 23:24) {\n",
    "        url <- paste0('https://www.inegi.org.mx/contenidos/programas/enoe/15ymas/microdatos/enoe_20', i, '_trim4_csv.zip')\n",
    "        descargar_extraer(url, dir_datos)\n",
    "    }\n",
    "}"
   ]
  },
  {
   "cell_type": "code",
   "execution_count": 6,
   "metadata": {
    "vscode": {
     "languageId": "r"
    }
   },
   "outputs": [],
   "source": [
    "descargar_enoe_csv()"
   ]
  },
  {
   "cell_type": "code",
   "execution_count": 7,
   "metadata": {
    "vscode": {
     "languageId": "r"
    }
   },
   "outputs": [
    {
     "name": "stderr",
     "output_type": "stream",
     "text": [
      "Warning message:\n",
      "\"\u001b[1m\u001b[22mOne or more parsing issues, call `problems()` on your data frame for details,\n",
      "e.g.:\n",
      "  dat <- vroom(...)\n",
      "  problems(dat)\"\n",
      "Warning message:\n",
      "\"\u001b[1m\u001b[22mOne or more parsing issues, call `problems()` on your data frame for details,\n",
      "e.g.:\n",
      "  dat <- vroom(...)\n",
      "  problems(dat)\"\n",
      "Warning message:\n",
      "\"\u001b[1m\u001b[22mOne or more parsing issues, call `problems()` on your data frame for details,\n",
      "e.g.:\n",
      "  dat <- vroom(...)\n",
      "  problems(dat)\"\n",
      "Warning message:\n",
      "\"\u001b[1m\u001b[22mOne or more parsing issues, call `problems()` on your data frame for details,\n",
      "e.g.:\n",
      "  dat <- vroom(...)\n",
      "  problems(dat)\"\n"
     ]
    }
   ],
   "source": [
    "archivos <- list.files(path = dir_datos, pattern = 'sdem.*\\\\.csv$', full.names = TRUE, ignore.case = TRUE)\n",
    "\n",
    "datos <- archivos %>%\n",
    "lapply(read_csv, show_col_types = FALSE)"
   ]
  },
  {
   "cell_type": "code",
   "execution_count": 8,
   "metadata": {
    "vscode": {
     "languageId": "r"
    }
   },
   "outputs": [],
   "source": [
    "tablas <- list()  # Crear lista vacía para almacenar los resultados\n",
    "\n",
    "for (i in seq_along(datos)) {\n",
    "  tablas[[i]] <- datos[[i]] %>%\n",
    "    clean_names() %>%\n",
    "    mutate(ano = as.numeric(str_extract(archivos[i], '\\\\d{2}(?=\\\\.csv$)')))\n",
    "}\n",
    "\n",
    "sdem <- bind_rows(tablas)\n"
   ]
  },
  {
   "cell_type": "markdown",
   "metadata": {},
   "source": [
    "Diseño muestral"
   ]
  },
  {
   "cell_type": "code",
   "execution_count": 9,
   "metadata": {
    "vscode": {
     "languageId": "r"
    }
   },
   "outputs": [],
   "source": [
    "#Escenario complejo\n",
    "enoe_svy <- as_survey_design(\n",
    "    .data = sdem,\n",
    "    ids = upm,\n",
    "    strata = est_d_tri,\n",
    "    weights = fac_tri,\n",
    "    nest = TRUE \n",
    ") "
   ]
  },
  {
   "cell_type": "markdown",
   "metadata": {},
   "source": [
    "Cálculo de salario promedio"
   ]
  },
  {
   "cell_type": "code",
   "execution_count": 10,
   "metadata": {
    "vscode": {
     "languageId": "r"
    }
   },
   "outputs": [],
   "source": [
    "#Población general\n",
    "gral_svy <- enoe_svy %>%\n",
    "filter(r_def ==00, (c_res == 1 | c_res == 3),\n",
    "         eda >= 15  & eda <= 98) %>%\n",
    "filter(ent == 9, clase2 == 1) #Filtrar por población ocupada en la Ciudad de México"
   ]
  },
  {
   "cell_type": "code",
   "execution_count": 11,
   "metadata": {
    "vscode": {
     "languageId": "r"
    }
   },
   "outputs": [],
   "source": [
    "#Salario promedio general\n",
    "salario_general <- gral_svy %>%\n",
    "group_by(ano) %>%\n",
    "summarise(sal_prom_gral = survey_mean(ingocup, na.rm = TRUE)) %>%\n",
    "select(-sal_prom_gral_se)"
   ]
  },
  {
   "cell_type": "code",
   "execution_count": 12,
   "metadata": {
    "vscode": {
     "languageId": "r"
    }
   },
   "outputs": [],
   "source": [
    "#Salario promedio por sexo\n",
    "salario_sex <- gral_svy %>%\n",
    "group_by(ano, sex) %>%\n",
    "summarise(sal_prom = survey_mean(ingocup, na.rm = TRUE)) %>%\n",
    "select(-sal_prom_se) %>%\n",
    "pivot_wider(names_from = sex, values_from = sal_prom, names_prefix = \"sal_prom_\")"
   ]
  },
  {
   "cell_type": "code",
   "execution_count": 13,
   "metadata": {
    "vscode": {
     "languageId": "r"
    }
   },
   "outputs": [],
   "source": [
    "salario_general <- salario_general %>%\n",
    "right_join(salario_sex, by = 'ano') %>%\n",
    "select(ano, sal_prom_gral, sal_prom_1, sal_prom_2) %>%\n",
    "rename(sal_prom_hombres = sal_prom_1, sal_prom_mujeres = sal_prom_2)"
   ]
  }
 ],
 "metadata": {
  "kernelspec": {
   "display_name": "R",
   "language": "R",
   "name": "ir"
  },
  "language_info": {
   "codemirror_mode": "r",
   "file_extension": ".r",
   "mimetype": "text/x-r-source",
   "name": "R",
   "pygments_lexer": "r",
   "version": "4.4.2"
  }
 },
 "nbformat": 4,
 "nbformat_minor": 2
}
