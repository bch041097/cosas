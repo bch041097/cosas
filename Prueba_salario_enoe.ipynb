{
 "cells": [
  {
   "cell_type": "markdown",
   "metadata": {},
   "source": [
    "Prueba de cálculo de salario promedio general  y desagregado por sexo en la Ciudad de México\n",
    "\n",
    "Serie longitudinal: últimos trimestres de 2021-2024"
   ]
  },
  {
   "cell_type": "code",
   "execution_count": 1,
   "metadata": {
    "vscode": {
     "languageId": "r"
    }
   },
   "outputs": [
    {
     "name": "stderr",
     "output_type": "stream",
     "text": [
      "── \u001b[1mAttaching core tidyverse packages\u001b[22m ──────────────────────── tidyverse 2.0.0 ──\n",
      "\u001b[32m✔\u001b[39m \u001b[34mdplyr    \u001b[39m 1.1.4     \u001b[32m✔\u001b[39m \u001b[34mreadr    \u001b[39m 2.1.5\n",
      "\u001b[32m✔\u001b[39m \u001b[34mforcats  \u001b[39m 1.0.0     \u001b[32m✔\u001b[39m \u001b[34mstringr  \u001b[39m 1.5.1\n",
      "\u001b[32m✔\u001b[39m \u001b[34mggplot2  \u001b[39m 3.5.1     \u001b[32m✔\u001b[39m \u001b[34mtibble   \u001b[39m 3.2.1\n",
      "\u001b[32m✔\u001b[39m \u001b[34mlubridate\u001b[39m 1.9.4     \u001b[32m✔\u001b[39m \u001b[34mtidyr    \u001b[39m 1.3.1\n",
      "\u001b[32m✔\u001b[39m \u001b[34mpurrr    \u001b[39m 1.0.4     \n",
      "── \u001b[1mConflicts\u001b[22m ────────────────────────────────────────── tidyverse_conflicts() ──\n",
      "\u001b[31m✖\u001b[39m \u001b[34mdplyr\u001b[39m::\u001b[32mfilter()\u001b[39m masks \u001b[34mstats\u001b[39m::filter()\n",
      "\u001b[31m✖\u001b[39m \u001b[34mdplyr\u001b[39m::\u001b[32mlag()\u001b[39m    masks \u001b[34mstats\u001b[39m::lag()\n",
      "\u001b[36mℹ\u001b[39m Use the conflicted package (\u001b[3m\u001b[34m<http://conflicted.r-lib.org/>\u001b[39m\u001b[23m) to force all conflicts to become errors\n",
      "Cargando paquete requerido: pacman\n",
      "\n"
     ]
    }
   ],
   "source": [
    "library(tidyverse)\n",
    "if(! require('pacman')) install.packages('pacman')\n",
    "pacman::p_load(srvyr, janitor, stringr, writexl)"
   ]
  },
  {
   "cell_type": "code",
   "execution_count": 2,
   "metadata": {
    "vscode": {
     "languageId": "r"
    }
   },
   "outputs": [],
   "source": [
    "dir_datos <- 'enoe_datos'\n",
    "if (!dir.exists(dir_datos)) {\n",
    "    dir.create(dir_datos)\n",
    "}"
   ]
  },
  {
   "cell_type": "code",
   "execution_count": 3,
   "metadata": {
    "vscode": {
     "languageId": "r"
    }
   },
   "outputs": [],
   "source": [
    "descargar_enoe_csv <- function() {\n",
    "    options(timeout = 90000)\n",
    "\n",
    "    descargar_extraer <- function(url, destino) {\n",
    "        temp <- tempfile()\n",
    "        download.file(url, temp, mode = 'wb')\n",
    "        unzip(temp, exdir = destino)\n",
    "        unlink(temp)\n",
    "\n",
    "    }\n",
    "    \n",
    "    #iterar los años de descarga    \n",
    "    for(i in 21:22) {\n",
    "        url <- paste0('https://www.inegi.org.mx/contenidos/programas/enoe/15ymas/microdatos/enoe_n_20', i, '_trim4_csv.zip')\n",
    "        descargar_extraer(url, dir_datos)\n",
    "    }\n",
    "\n",
    "    for(i in 23:24) {\n",
    "        url <- paste0('https://www.inegi.org.mx/contenidos/programas/enoe/15ymas/microdatos/enoe_20', i, '_trim4_csv.zip')\n",
    "        descargar_extraer(url, dir_datos)\n",
    "    }\n",
    "}"
   ]
  },
  {
   "cell_type": "code",
   "execution_count": 4,
   "metadata": {
    "vscode": {
     "languageId": "r"
    }
   },
   "outputs": [],
   "source": [
    "descargar_enoe_csv()"
   ]
  },
  {
   "cell_type": "code",
   "execution_count": 5,
   "metadata": {
    "vscode": {
     "languageId": "r"
    }
   },
   "outputs": [
    {
     "name": "stderr",
     "output_type": "stream",
     "text": [
      "Warning message:\n",
      "\"\u001b[1m\u001b[22mOne or more parsing issues, call `problems()` on your data frame for details,\n",
      "e.g.:\n",
      "  dat <- vroom(...)\n",
      "  problems(dat)\"\n",
      "Warning message:\n",
      "\"\u001b[1m\u001b[22mOne or more parsing issues, call `problems()` on your data frame for details,\n",
      "e.g.:\n",
      "  dat <- vroom(...)\n",
      "  problems(dat)\"\n",
      "Warning message:\n",
      "\"\u001b[1m\u001b[22mOne or more parsing issues, call `problems()` on your data frame for details,\n",
      "e.g.:\n",
      "  dat <- vroom(...)\n",
      "  problems(dat)\"\n",
      "Warning message:\n",
      "\"\u001b[1m\u001b[22mOne or more parsing issues, call `problems()` on your data frame for details,\n",
      "e.g.:\n",
      "  dat <- vroom(...)\n",
      "  problems(dat)\"\n"
     ]
    }
   ],
   "source": [
    "archivos <- list.files(path = dir_datos, pattern = 'sdem.*\\\\.csv$', full.names = TRUE, ignore.case = TRUE)\n",
    "\n",
    "datos <- archivos %>%\n",
    "lapply(read_csv, show_col_types = FALSE)"
   ]
  },
  {
   "cell_type": "code",
   "execution_count": 6,
   "metadata": {
    "vscode": {
     "languageId": "r"
    }
   },
   "outputs": [],
   "source": [
    "tablas <- lapply(datos, function(df) {\n",
    "    df %>%\n",
    "    clean_names() %>%\n",
    "    filter(r_def ==00, (c_res == 1 | c_res == 3),\n",
    "         eda >= 15  & eda <= 98,\n",
    "         clase2 == 1) %>%\n",
    "    select(ent, sex, eda, fac_tri, ingocup)\n",
    "})\n"
   ]
  },
  {
   "cell_type": "code",
   "execution_count": 7,
   "metadata": {
    "vscode": {
     "languageId": "r"
    }
   },
   "outputs": [],
   "source": [
    "#Listas vacías\n",
    "variables <- list()\n",
    "Pocupada <- list()\n",
    "mujeres <- list()\n",
    "hombres <- list()"
   ]
  },
  {
   "cell_type": "code",
   "execution_count": 8,
   "metadata": {
    "vscode": {
     "languageId": "r"
    }
   },
   "outputs": [],
   "source": [
    "for (i in seq_along(tablas)) {\n",
    "  # Extraer el año desde el nombre del archivo\n",
    "  year <- str_extract(archivos[[i]], \"\\\\d{2}(?=\\\\D*$)\")\n",
    "  fecha <- paste0(\"31/12/20\", year)\n",
    "  \n",
    "  variables[[i]] <- tablas[[i]] %>%\n",
    "    mutate(fecha = fecha)\n",
    "\n",
    "  Pocupada[[i]] <- variables[[i]] %>%\n",
    "    summarise(SalarioPromedio = sum(fac_tri * ingocup, na.rm = TRUE) / sum(fac_tri, na.rm = TRUE),\n",
    "              .groups = \"drop\") %>%\n",
    "    mutate(fecha = fecha)\n",
    "\n",
    "  mujeres[[i]] <- variables[[i]] %>%\n",
    "    filter(sex == 2) %>%\n",
    "    summarise(Salario_Promedio_Mujeres = sum(fac_tri * ingocup, na.rm = TRUE) / sum(fac_tri, na.rm = TRUE),\n",
    "              .groups = \"drop\") %>%\n",
    "    mutate(fecha = fecha)\n",
    "\n",
    "  hombres[[i]] <- variables[[i]] %>%\n",
    "    filter(sex == 1) %>%\n",
    "    summarise(Salario_Promedio_Hombres = sum(fac_tri * ingocup, na.rm = TRUE) / sum(fac_tri, na.rm = TRUE),\n",
    "              .groups = \"drop\") %>%\n",
    "    mutate(fecha = fecha)\n",
    "}"
   ]
  },
  {
   "cell_type": "code",
   "execution_count": 9,
   "metadata": {
    "vscode": {
     "languageId": "r"
    }
   },
   "outputs": [],
   "source": [
    "total <- mapply(function(p, m, h){\n",
    "reduce(list(p, m, h), left_join, by = 'fecha')},\n",
    "Pocupada, mujeres, hombres, SIMPLIFY = FALSE)\n",
    "\n",
    "salario_historico <- bind_rows(total)"
   ]
  },
  {
   "cell_type": "code",
   "execution_count": 10,
   "metadata": {
    "vscode": {
     "languageId": "r"
    }
   },
   "outputs": [
    {
     "name": "stdout",
     "output_type": "stream",
     "text": [
      "\u001b[90m# A tibble: 4 × 4\u001b[39m\n",
      "  SalarioPromedio fecha      Salario_Promedio_Mujeres Salario_Promedio_Hombres\n",
      "            \u001b[3m\u001b[90m<dbl>\u001b[39m\u001b[23m \u001b[3m\u001b[90m<chr>\u001b[39m\u001b[23m                         \u001b[3m\u001b[90m<dbl>\u001b[39m\u001b[23m                    \u001b[3m\u001b[90m<dbl>\u001b[39m\u001b[23m\n",
      "\u001b[90m1\u001b[39m           \u001b[4m5\u001b[24m751. 31/12/2023                    \u001b[4m4\u001b[24m983.                    \u001b[4m6\u001b[24m280.\n",
      "\u001b[90m2\u001b[39m           \u001b[4m6\u001b[24m034. 31/12/2024                    \u001b[4m5\u001b[24m218.                    \u001b[4m6\u001b[24m608.\n",
      "\u001b[90m3\u001b[39m           \u001b[4m4\u001b[24m893. 31/12/2021                    \u001b[4m4\u001b[24m232.                    \u001b[4m5\u001b[24m324.\n",
      "\u001b[90m4\u001b[39m           \u001b[4m5\u001b[24m248. 31/12/2022                    \u001b[4m4\u001b[24m476.                    \u001b[4m5\u001b[24m775.\n"
     ]
    }
   ],
   "source": [
    "print(salario_historico)"
   ]
  }
 ],
 "metadata": {
  "kernelspec": {
   "display_name": "R",
   "language": "R",
   "name": "ir"
  },
  "language_info": {
   "codemirror_mode": "r",
   "file_extension": ".r",
   "mimetype": "text/x-r-source",
   "name": "R",
   "pygments_lexer": "r",
   "version": "4.4.2"
  }
 },
 "nbformat": 4,
 "nbformat_minor": 2
}
