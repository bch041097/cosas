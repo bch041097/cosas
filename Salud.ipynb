{
 "cells": [
  {
   "cell_type": "markdown",
   "metadata": {},
   "source": [
    "# Indicadores de Salud\n",
    "\n",
    "Cálculo de las principales enfermedades crónicas en población de la Ciudad de México a partir de la Encuesta Nacional de Salud y Nutrición"
   ]
  },
  {
   "cell_type": "code",
   "execution_count": 135,
   "metadata": {
    "vscode": {
     "languageId": "r"
    }
   },
   "outputs": [],
   "source": [
    "if(! require('pacman')) install.packages('pacman')\n",
    "pacman::p_load(tidyverse, srvyr, janitor, stringr, haven, writexl)"
   ]
  },
  {
   "cell_type": "markdown",
   "metadata": {},
   "source": [
    "Tabla de resultados y filtrarlo a nivel Ciudad de México"
   ]
  },
  {
   "cell_type": "code",
   "execution_count": 139,
   "metadata": {
    "vscode": {
     "languageId": "r"
    }
   },
   "outputs": [
    {
     "name": "stderr",
     "output_type": "stream",
     "text": [
      "\u001b[36mℹ\u001b[39m Using \u001b[34m\u001b[34m\"','\"\u001b[34m\u001b[39m as decimal and \u001b[34m\u001b[34m\"'.'\"\u001b[34m\u001b[39m as grouping mark. Use `read_delim()` for more control.\n",
      "\n",
      "Warning message:\n",
      "\"\u001b[1m\u001b[22mOne or more parsing issues, call `problems()` on your data frame for details,\n",
      "e.g.:\n",
      "  dat <- vroom(...)\n",
      "  problems(dat)\"\n",
      "Warning message:\n",
      "\"\u001b[1m\u001b[22mThere were 31 warnings in `mutate()`.\n",
      "The first warning was:\n",
      "\u001b[1m\u001b[22m\u001b[36mℹ\u001b[39m In argument: `across(where(is.character), as.numeric)`.\n",
      "Caused by warning:\n",
      "\u001b[33m!\u001b[39m NAs introducidos por coerción\n",
      "\u001b[1m\u001b[22m\u001b[36mℹ\u001b[39m Run `dplyr::last_dplyr_warnings()` to see the 30 remaining warnings.\"\n",
      "\u001b[36mℹ\u001b[39m Using \u001b[34m\u001b[34m\"','\"\u001b[34m\u001b[39m as decimal and \u001b[34m\u001b[34m\"'.'\"\u001b[34m\u001b[39m as grouping mark. Use `read_delim()` for more control.\n",
      "\n",
      "Warning message:\n",
      "\"\u001b[1m\u001b[22mOne or more parsing issues, call `problems()` on your data frame for details,\n",
      "e.g.:\n",
      "  dat <- vroom(...)\n",
      "  problems(dat)\"\n",
      "Warning message:\n",
      "\"\u001b[1m\u001b[22mThere were 17 warnings in `mutate()`.\n",
      "The first warning was:\n",
      "\u001b[1m\u001b[22m\u001b[36mℹ\u001b[39m In argument: `across(where(is.character), as.numeric)`.\n",
      "Caused by warning:\n",
      "\u001b[33m!\u001b[39m NAs introducidos por coerción\n",
      "\u001b[1m\u001b[22m\u001b[36mℹ\u001b[39m Run `dplyr::last_dplyr_warnings()` to see the 16 remaining warnings.\"\n"
     ]
    }
   ],
   "source": [
    "# Se usa read_csv2 para leer el archivo csv con separador de punto y coma\n",
    "sangre <- read_csv2(\"ensasangre21_entrega_w_integrada_ok.csv\", show_col_types = FALSE) %>%\n",
    "clean_names() %>%\n",
    "mutate(across(where(is.character), as.numeric)) %>%\n",
    "filter(entidad == 9)\n",
    "\n",
    "antropo <- read_csv2(\"ensaantro21_entrega_w_17_12_2021.csv\", show_col_types = FALSE) %>%\n",
    "clean_names() %>%\n",
    "mutate(across(where(is.character), as.numeric)) %>%\n",
    "filter(entidad == 9)\n"
   ]
  },
  {
   "cell_type": "markdown",
   "metadata": {},
   "source": [
    "Población con Diabetes\n",
    "\n",
    "Criterios para obtenidos de: *Guía de Práctica Clínica: Diagnóstico y Tratamiento de Diabetes Mellitus Tipo 2. Instituto Mexicano del Seguro Social, (2018)*\n",
    "\n",
    "-Glucemia plasmática en ayuno: >= 125 mg/dL\n",
    "\n",
    "-Glucemia plasmática después de dos horas del último alimento: >= 200 mg/dL\n",
    "\n",
    "-Hemoglobina glucosificada: >= 6.5%\n",
    "\n"
   ]
  },
  {
   "cell_type": "code",
   "execution_count": 140,
   "metadata": {
    "vscode": {
     "languageId": "r"
    }
   },
   "outputs": [
    {
     "data": {
      "text/html": [
       "<table class=\"dataframe\">\n",
       "<caption>A tibble: 1 × 3</caption>\n",
       "<thead>\n",
       "\t<tr><th scope=col>pob_total</th><th scope=col>pob_diab</th><th scope=col>porcent_pob</th></tr>\n",
       "\t<tr><th scope=col>&lt;dbl&gt;</th><th scope=col>&lt;dbl&gt;</th><th scope=col>&lt;dbl&gt;</th></tr>\n",
       "</thead>\n",
       "<tbody>\n",
       "\t<tr><td>6998165</td><td>2244801</td><td>32.077</td></tr>\n",
       "</tbody>\n",
       "</table>\n"
      ],
      "text/latex": [
       "A tibble: 1 × 3\n",
       "\\begin{tabular}{lll}\n",
       " pob\\_total & pob\\_diab & porcent\\_pob\\\\\n",
       " <dbl> & <dbl> & <dbl>\\\\\n",
       "\\hline\n",
       "\t 6998165 & 2244801 & 32.077\\\\\n",
       "\\end{tabular}\n"
      ],
      "text/markdown": [
       "\n",
       "A tibble: 1 × 3\n",
       "\n",
       "| pob_total &lt;dbl&gt; | pob_diab &lt;dbl&gt; | porcent_pob &lt;dbl&gt; |\n",
       "|---|---|---|\n",
       "| 6998165 | 2244801 | 32.077 |\n",
       "\n"
      ],
      "text/plain": [
       "  pob_total pob_diab porcent_pob\n",
       "1 6998165   2244801  32.077     "
      ]
     },
     "metadata": {},
     "output_type": "display_data"
    }
   ],
   "source": [
    "pob_diab <- sangre %>%\n",
    "select(san04, h0302, h0303, a0301, valor_glu_suero, valor_hb1ac, ponde_g) %>%\n",
    "rename(ult_alim = san04, sexo = h0302, edad = h0303, diag_diab = a0301, glucosa = valor_glu_suero, hemoglobina = valor_hb1ac) %>%\n",
    "filter(complete.cases(.)) %>%\n",
    "summarise(\n",
    "    pob_total = sum(ifelse(edad >= 20, ponde_g, 0)),\n",
    "    pob_diab = sum(\n",
    "        ifelse(edad >= 20 & ult_alim >= 8 & glucosa >= 125, ponde_g, 0),\n",
    "        ifelse(edad >= 20 & ult_alim >= 2 & glucosa >= 200, ponde_g, 0), \n",
    "        ifelse(hemoglobina >= 6.5, ponde_g, 0)),\n",
    "    porcent_pob = pob_diab / pob_total * 100 )\n",
    "    \n",
    "\n",
    "head(pob_diab)"
   ]
  },
  {
   "cell_type": "markdown",
   "metadata": {},
   "source": [
    "Población con Obesidad (Revisar los resultados)\n",
    "\n",
    "Criterios para obtenidos de *Guía de Práctica Clínica: Intervención dietética: Paciente con Obesidad. Instituto Mexicano del Seguro Social, (2013)*\n",
    "\n",
    "Índice de Masa Corporal: Peso (kg)/ (Altura (m))^2\n",
    "\n",
    "-Grado 1: IMC 30-34.9\n",
    "-Grado 2: IMC 35 – 39.9\n",
    "-Grado 3: IMC 40 – 49\n",
    "-Grado 4: IMC ≥50"
   ]
  },
  {
   "cell_type": "code",
   "execution_count": 147,
   "metadata": {
    "vscode": {
     "languageId": "r"
    }
   },
   "outputs": [
    {
     "data": {
      "text/html": [
       "<table class=\"dataframe\">\n",
       "<caption>A tibble: 1 × 3</caption>\n",
       "<thead>\n",
       "\t<tr><th scope=col>pob_total</th><th scope=col>pob_obe</th><th scope=col>porcent_pob</th></tr>\n",
       "\t<tr><th scope=col>&lt;dbl&gt;</th><th scope=col>&lt;dbl&gt;</th><th scope=col>&lt;dbl&gt;</th></tr>\n",
       "</thead>\n",
       "<tbody>\n",
       "\t<tr><td>5409125</td><td>4261477</td><td>78.78311</td></tr>\n",
       "</tbody>\n",
       "</table>\n"
      ],
      "text/latex": [
       "A tibble: 1 × 3\n",
       "\\begin{tabular}{lll}\n",
       " pob\\_total & pob\\_obe & porcent\\_pob\\\\\n",
       " <dbl> & <dbl> & <dbl>\\\\\n",
       "\\hline\n",
       "\t 5409125 & 4261477 & 78.78311\\\\\n",
       "\\end{tabular}\n"
      ],
      "text/markdown": [
       "\n",
       "A tibble: 1 × 3\n",
       "\n",
       "| pob_total &lt;dbl&gt; | pob_obe &lt;dbl&gt; | porcent_pob &lt;dbl&gt; |\n",
       "|---|---|---|\n",
       "| 5409125 | 4261477 | 78.78311 |\n",
       "\n"
      ],
      "text/plain": [
       "  pob_total pob_obe porcent_pob\n",
       "1 5409125   4261477 78.78311   "
      ]
     },
     "metadata": {},
     "output_type": "display_data"
    }
   ],
   "source": [
    "pob_obe <- antropo %>%\n",
    "select(h0302, h0303, an01_1, an01_2, an04_1, an04_2, ponde_f) %>%\n",
    "rename(sexo = h0302, edad = h0303, peso1 = an01_1, peso2 = an01_2, altura1 = an04_1, altura2 = an04_2) %>%\n",
    "filter(complete.cases(.)) %>%\n",
    "summarise(\n",
    "    pob_total = sum(ifelse(edad >= 20, ponde_f, 0)),\n",
    "    pob_obe = sum(ifelse(edad >= 20 & (peso1 / (altura1 / 100)^2) >= 30, ponde_f, 0),\n",
    "    ifelse(edad >= 20 & (peso2 / (altura2 / 100)^2) >= 30, ponde_f, 0)),\n",
    "    porcent_pob = pob_obe / pob_total * 100 )\n",
    "\n",
    "pob_obe\n"
   ]
  },
  {
   "cell_type": "markdown",
   "metadata": {},
   "source": [
    "Pendiente Población con Anemia\n",
    "\n",
    "Criterios para obtenidos de *Guía de Práctica Clínica: Prevención, Diagnóstico y Tratamiento de la Anemia por Deficiencia de Hierro. Instituto Mexicano del Seguro Social, (2010)*"
   ]
  }
 ],
 "metadata": {
  "kernelspec": {
   "display_name": "R",
   "language": "R",
   "name": "ir"
  },
  "language_info": {
   "codemirror_mode": "r",
   "file_extension": ".r",
   "mimetype": "text/x-r-source",
   "name": "R",
   "pygments_lexer": "r",
   "version": "4.4.2"
  }
 },
 "nbformat": 4,
 "nbformat_minor": 2
}
