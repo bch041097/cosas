{
 "cells": [
  {
   "cell_type": "code",
   "execution_count": 1,
   "metadata": {
    "vscode": {
     "languageId": "r"
    }
   },
   "outputs": [
    {
     "name": "stderr",
     "output_type": "stream",
     "text": [
      "Cargando paquete requerido: pacman\n",
      "\n"
     ]
    }
   ],
   "source": [
    "if(! require('pacman')) install.packages('pacman')\n",
    "pacman::p_load(tidyverse, srvyr, janitor, stringr, readxl, writexl)"
   ]
  },
  {
   "cell_type": "code",
   "execution_count": 2,
   "metadata": {
    "vscode": {
     "languageId": "r"
    }
   },
   "outputs": [
    {
     "name": "stderr",
     "output_type": "stream",
     "text": [
      "\u001b[1m\u001b[22mNew names:\n",
      "\u001b[36m•\u001b[39m `` -> `...4`\n",
      "\u001b[36m•\u001b[39m `` -> `...5`\n",
      "\u001b[36m•\u001b[39m `` -> `...6`\n",
      "\u001b[36m•\u001b[39m `` -> `...7`\n",
      "\u001b[36m•\u001b[39m `` -> `...8`\n",
      "\u001b[36m•\u001b[39m `` -> `...9`\n",
      "\u001b[36m•\u001b[39m `` -> `...10`\n",
      "\u001b[36m•\u001b[39m `` -> `...11`\n",
      "\u001b[36m•\u001b[39m `` -> `...12`\n",
      "\u001b[36m•\u001b[39m `` -> `...13`\n",
      "\u001b[36m•\u001b[39m `` -> `...14`\n",
      "\u001b[36m•\u001b[39m `` -> `...15`\n",
      "\u001b[36m•\u001b[39m `` -> `...16`\n",
      "\u001b[36m•\u001b[39m `` -> `...17`\n",
      "\u001b[1m\u001b[22mNew names:\n",
      "\u001b[36m•\u001b[39m `` -> `...4`\n",
      "\u001b[36m•\u001b[39m `` -> `...5`\n",
      "\u001b[36m•\u001b[39m `` -> `...6`\n",
      "\u001b[36m•\u001b[39m `` -> `...7`\n",
      "\u001b[36m•\u001b[39m `` -> `...8`\n",
      "\u001b[36m•\u001b[39m `` -> `...9`\n",
      "\u001b[36m•\u001b[39m `` -> `...10`\n",
      "\u001b[36m•\u001b[39m `` -> `...11`\n",
      "\u001b[36m•\u001b[39m `` -> `...12`\n",
      "\u001b[36m•\u001b[39m `` -> `...13`\n",
      "\u001b[36m•\u001b[39m `` -> `...14`\n",
      "\u001b[36m•\u001b[39m `` -> `...15`\n",
      "\u001b[36m•\u001b[39m `` -> `...16`\n",
      "\u001b[36m•\u001b[39m `` -> `...17`\n",
      "\u001b[36m•\u001b[39m `` -> `...18`\n",
      "\u001b[36m•\u001b[39m `` -> `...19`\n",
      "\u001b[36m•\u001b[39m `` -> `...20`\n",
      "\u001b[36m•\u001b[39m `` -> `...21`\n",
      "\u001b[36m•\u001b[39m `` -> `...22`\n",
      "\u001b[36m•\u001b[39m `` -> `...23`\n",
      "\u001b[36m•\u001b[39m `` -> `...24`\n",
      "\u001b[36m•\u001b[39m `` -> `...25`\n",
      "\u001b[36m•\u001b[39m `` -> `...26`\n",
      "\u001b[36m•\u001b[39m `` -> `...27`\n",
      "\u001b[1m\u001b[22mNew names:\n",
      "\u001b[36m•\u001b[39m `` -> `...4`\n",
      "\u001b[36m•\u001b[39m `` -> `...5`\n",
      "\u001b[36m•\u001b[39m `` -> `...6`\n",
      "\u001b[1m\u001b[22mNew names:\n",
      "\u001b[36m•\u001b[39m `` -> `...4`\n",
      "\u001b[1m\u001b[22mNew names:\n",
      "\u001b[36m•\u001b[39m `` -> `...4`\n",
      "\u001b[36m•\u001b[39m `` -> `...5`\n",
      "\u001b[36m•\u001b[39m `` -> `...6`\n",
      "\u001b[36m•\u001b[39m `` -> `...7`\n",
      "\u001b[36m•\u001b[39m `` -> `...8`\n",
      "\u001b[36m•\u001b[39m `` -> `...9`\n",
      "\u001b[36m•\u001b[39m `` -> `...10`\n",
      "\u001b[36m•\u001b[39m `` -> `...11`\n"
     ]
    }
   ],
   "source": [
    "#Cargar todas las tablas obtenidas\n",
    "cedulas<- read_xlsx('1. Originales (Bases como se obtienen de la plataforma)/REGISTROS_CEDULAS_GLOBAL.xlsx')\n",
    "\n",
    "formato_int <- read_xlsx('1. Originales (Bases como se obtienen de la plataforma)/REGISTROS_FORMATO_INTERNO_GLOBAL.xlsx')\n",
    "\n",
    "analisis <- read_xlsx('1. Originales (Bases como se obtienen de la plataforma)/REGISTROS_ANALISIS_GLOBAL.xlsx') \n",
    "\n",
    "val_tec <- read_xlsx('1. Originales (Bases como se obtienen de la plataforma)/REGISTROS_VALORACION_TECNICA_GLOBAL.xlsx') %>% \n",
    "clean_names() %>% mutate(folio = as.numeric(folio))\n",
    "\n",
    "val_jud <- read_xlsx('1. Originales (Bases como se obtienen de la plataforma)/REGISTROS_VALORACION_JURIDICA_GLOBAL.xlsx')\n",
    "\n",
    "integra <- read_xlsx('1. Originales (Bases como se obtienen de la plataforma)/REGISTROS_INTEGRACION_GLOBAL.xlsx')"
   ]
  },
  {
   "cell_type": "code",
   "execution_count": 3,
   "metadata": {
    "vscode": {
     "languageId": "r"
    }
   },
   "outputs": [
    {
     "name": "stdout",
     "output_type": "stream",
     "text": [
      "\u001b[90m# A tibble: 7,775 × 11\u001b[39m\n",
      "   REPORTE GLOBAL ETAPA…¹ GENERADO `16-05-2023 09:32:06` ...4  ...5  ...6  ...7 \n",
      "   \u001b[3m\u001b[90m<chr>\u001b[39m\u001b[23m                  \u001b[3m\u001b[90m<chr>\u001b[39m\u001b[23m    \u001b[3m\u001b[90m<chr>\u001b[39m\u001b[23m                 \u001b[3m\u001b[90m<chr>\u001b[39m\u001b[23m \u001b[3m\u001b[90m<chr>\u001b[39m\u001b[23m \u001b[3m\u001b[90m<chr>\u001b[39m\u001b[23m \u001b[3m\u001b[90m<chr>\u001b[39m\u001b[23m\n",
      "\u001b[90m 1\u001b[39m FOLIO                  TIPO DE… PGD EJE               PGD … PGD … PGD … PGOT…\n",
      "\u001b[90m 2\u001b[39m 573988                 CÉDULA   \u001b[31mNA\u001b[39m                    \u001b[31mNA\u001b[39m    Se i… \u001b[31mNA\u001b[39m    \u001b[31mNA\u001b[39m   \n",
      "\u001b[90m 3\u001b[39m 474553                 CÉDULA   \u001b[31mNA\u001b[39m                    \u001b[31mNA\u001b[39m    Se i… \u001b[31mNA\u001b[39m    \u001b[31mNA\u001b[39m   \n",
      "\u001b[90m 4\u001b[39m 370044                 CÉDULA   \u001b[31mNA\u001b[39m                    \u001b[31mNA\u001b[39m    Se i… \u001b[31mNA\u001b[39m    \u001b[31mNA\u001b[39m   \n",
      "\u001b[90m 5\u001b[39m 978585                 CÉDULA   \u001b[31mNA\u001b[39m                    \u001b[31mNA\u001b[39m    Se i… \u001b[31mNA\u001b[39m    \u001b[31mNA\u001b[39m   \n",
      "\u001b[90m 6\u001b[39m 643872                 CÉDULA   \u001b[31mNA\u001b[39m                    \u001b[31mNA\u001b[39m    Se i… \u001b[31mNA\u001b[39m    \u001b[31mNA\u001b[39m   \n",
      "\u001b[90m 7\u001b[39m 751794                 CÉDULA   \u001b[31mNA\u001b[39m                    \u001b[31mNA\u001b[39m    Se i… \u001b[31mNA\u001b[39m    \u001b[31mNA\u001b[39m   \n",
      "\u001b[90m 8\u001b[39m 161052                 CÉDULA   \u001b[31mNA\u001b[39m                    \u001b[31mNA\u001b[39m    Se i… \u001b[31mNA\u001b[39m    \u001b[31mNA\u001b[39m   \n",
      "\u001b[90m 9\u001b[39m 369797                 CÉDULA   \u001b[31mNA\u001b[39m                    \u001b[31mNA\u001b[39m    Se i… \u001b[31mNA\u001b[39m    \u001b[31mNA\u001b[39m   \n",
      "\u001b[90m10\u001b[39m 234783                 CÉDULA   \u001b[31mNA\u001b[39m                    \u001b[31mNA\u001b[39m    Se i… \u001b[31mNA\u001b[39m    \u001b[31mNA\u001b[39m   \n",
      "\u001b[90m# ℹ 7,765 more rows\u001b[39m\n",
      "\u001b[90m# ℹ abbreviated name: ¹​`REPORTE GLOBAL ETAPA DE INTEGRACIÓN`\u001b[39m\n",
      "\u001b[90m# ℹ 4 more variables: ...8 <chr>, ...9 <chr>, ...10 <chr>, ...11 <chr>\u001b[39m\n"
     ]
    }
   ],
   "source": [
    "print(integra)"
   ]
  },
  {
   "cell_type": "code",
   "execution_count": 4,
   "metadata": {
    "vscode": {
     "languageId": "r"
    }
   },
   "outputs": [],
   "source": [
    "#Lista de las tablas para echar a andar la función\n",
    "tablas <- list(cedulas, formato_int, analisis, val_jud, integra)"
   ]
  },
  {
   "cell_type": "code",
   "execution_count": 5,
   "metadata": {
    "vscode": {
     "languageId": "r"
    }
   },
   "outputs": [],
   "source": [
    "# Función para eliminar la primera fila de cada tabla\n",
    "sup_prim_fila <- function(df) {\n",
    "    colnames(df) <- df[1, ]\n",
    "    df <- df[-1, ] %>% \n",
    "    clean_names()\n",
    "\n",
    "\n",
    "#Función para hacer folio numérico\n",
    "  if (\"folio\" %in% colnames(df)) {\n",
    "    df <- df %>% mutate(folio = suppressWarnings(as.numeric(folio)))\n",
    "  }\n",
    "  \n",
    "  return(df) \n",
    "}\n",
    "\n",
    "\n",
    "#Con lapply la función correa para todos los df de la lista\n",
    "tablas <- lapply(tablas, sup_prim_fila)"
   ]
  },
  {
   "cell_type": "code",
   "execution_count": 6,
   "metadata": {
    "vscode": {
     "languageId": "r"
    }
   },
   "outputs": [],
   "source": [
    "# Asignar los DataFrames de vuelta a sus variables originales\n",
    "cedulas <- tablas[[1]]\n",
    "formato_int <- tablas[[2]]\n",
    "analisis <- tablas[[3]]\n",
    "val_jud <- tablas[[4]]\n",
    "integra <- tablas[[5]]\n"
   ]
  },
  {
   "cell_type": "code",
   "execution_count": 34,
   "metadata": {
    "vscode": {
     "languageId": "r"
    }
   },
   "outputs": [],
   "source": [
    "cedulas_global <- cedulas %>%\n",
    "left_join(analisis, by = 'folio', relationship = 'one-to-many' ) %>% left_join(val_tec, by = 'folio',  relationship = 'one-to-many') %>%\n",
    "left_join(val_jud, by = 'folio',  relationship = 'one-to-many') %>% left_join(integra, by = 'folio', relationship = 'one-to-many') %>%\n",
    "distinct(folio, .keep_all = TRUE)"
   ]
  },
  {
   "cell_type": "code",
   "execution_count": null,
   "metadata": {
    "vscode": {
     "languageId": "r"
    }
   },
   "outputs": [
    {
     "data": {
      "text/html": [
       "FALSE"
      ],
      "text/latex": [
       "FALSE"
      ],
      "text/markdown": [
       "FALSE"
      ],
      "text/plain": [
       "[1] FALSE"
      ]
     },
     "metadata": {},
     "output_type": "display_data"
    }
   ],
   "source": [
    "#Asegurarse que el folio esté\n",
    "any(cedulas_global$folio == 265043)\n",
    "\n"
   ]
  },
  {
   "cell_type": "code",
   "execution_count": 37,
   "metadata": {
    "vscode": {
     "languageId": "r"
    }
   },
   "outputs": [],
   "source": [
    "formato_int_global <- formato_int %>%\n",
    "left_join(analisis, by = 'folio', relationship = 'one-to-many' ) %>% left_join(val_tec, by = 'folio',  relationship = 'one-to-many') %>%\n",
    "left_join(val_jud, by = 'folio',  relationship = 'one-to-many') %>% left_join(integra, by = 'folio', relationship = 'one-to-many') %>%\n",
    "distinct(folio, .keep_all = TRUE)"
   ]
  },
  {
   "cell_type": "code",
   "execution_count": 47,
   "metadata": {
    "vscode": {
     "languageId": "r"
    }
   },
   "outputs": [
    {
     "data": {
      "text/html": [
       "TRUE"
      ],
      "text/latex": [
       "TRUE"
      ],
      "text/markdown": [
       "TRUE"
      ],
      "text/plain": [
       "[1] TRUE"
      ]
     },
     "metadata": {},
     "output_type": "display_data"
    },
    {
     "data": {
      "text/html": [
       "<style>\n",
       ".list-inline {list-style: none; margin:0; padding: 0}\n",
       ".list-inline>li {display: inline-block}\n",
       ".list-inline>li:not(:last-child)::after {content: \"\\00b7\"; padding: 0 .5ex}\n",
       "</style>\n",
       "<ol class=list-inline><li>'folio'</li><li>'tipo_consulta'</li><li>'forma_de_consulta'</li><li>'tipo_de_formato.x'</li><li>'fecha_solicitud'</li><li>'nombre_del_enlace'</li><li>'correo_electronico_enlace'</li><li>'tienen_datos_de_quien_participa'</li><li>'es_representante'</li><li>'es_autoridad_representativa'</li><li>'nombre_del_pueblo_barrio_comunidad'</li><li>'tipo_en_caso_de_ser_organizacion_publica'</li><li>'nombre_organizacion_publica'</li><li>'nombre_participante'</li><li>'correo_electronico_participante'</li><li>'ocupacion_participante'</li><li>'edad_participante'</li><li>'genero_participante'</li><li>'alcaldia_participante'</li><li>'colonia_pueblo_o_barrio_participante'</li><li>'tipo_de_participacion'</li><li>'nombre_en_caso_de_ser_taller_foro_o_actividad'</li><li>'fecha_taller_foro_o_actividad'</li><li>'lugar_taller_foro_o_actividad'</li><li>'anexos'</li><li>'anexos_cuantos'</li><li>'situacion.x'</li><li>'tipo_de_formato.y'</li><li>'tema.x'</li><li>'subtema'</li><li>'observaciones.x'</li><li>'situacion.y'</li><li>'tipo_de_formato.x.x'</li><li>'tipo_de_instrumento'</li><li>'categoria'</li><li>'tema.y'</li><li>'observaciones.y'</li><li>'situacion.x.x'</li><li>'tipo_de_formato.y.y'</li><li>'observaciones'</li><li>'situacion.y.y'</li><li>'tipo_de_formato'</li><li>'pgd_eje'</li><li>'pgd_objetivo'</li><li>'pgd_observaciones'</li><li>'pgd_motivo_rechazo'</li><li>'pgot_estrategia'</li><li>'pgot_accion'</li><li>'pgot_observaciones'</li><li>'pgot_motivo_rechazo'</li><li>'situacion'</li></ol>\n"
      ],
      "text/latex": [
       "\\begin{enumerate*}\n",
       "\\item 'folio'\n",
       "\\item 'tipo\\_consulta'\n",
       "\\item 'forma\\_de\\_consulta'\n",
       "\\item 'tipo\\_de\\_formato.x'\n",
       "\\item 'fecha\\_solicitud'\n",
       "\\item 'nombre\\_del\\_enlace'\n",
       "\\item 'correo\\_electronico\\_enlace'\n",
       "\\item 'tienen\\_datos\\_de\\_quien\\_participa'\n",
       "\\item 'es\\_representante'\n",
       "\\item 'es\\_autoridad\\_representativa'\n",
       "\\item 'nombre\\_del\\_pueblo\\_barrio\\_comunidad'\n",
       "\\item 'tipo\\_en\\_caso\\_de\\_ser\\_organizacion\\_publica'\n",
       "\\item 'nombre\\_organizacion\\_publica'\n",
       "\\item 'nombre\\_participante'\n",
       "\\item 'correo\\_electronico\\_participante'\n",
       "\\item 'ocupacion\\_participante'\n",
       "\\item 'edad\\_participante'\n",
       "\\item 'genero\\_participante'\n",
       "\\item 'alcaldia\\_participante'\n",
       "\\item 'colonia\\_pueblo\\_o\\_barrio\\_participante'\n",
       "\\item 'tipo\\_de\\_participacion'\n",
       "\\item 'nombre\\_en\\_caso\\_de\\_ser\\_taller\\_foro\\_o\\_actividad'\n",
       "\\item 'fecha\\_taller\\_foro\\_o\\_actividad'\n",
       "\\item 'lugar\\_taller\\_foro\\_o\\_actividad'\n",
       "\\item 'anexos'\n",
       "\\item 'anexos\\_cuantos'\n",
       "\\item 'situacion.x'\n",
       "\\item 'tipo\\_de\\_formato.y'\n",
       "\\item 'tema.x'\n",
       "\\item 'subtema'\n",
       "\\item 'observaciones.x'\n",
       "\\item 'situacion.y'\n",
       "\\item 'tipo\\_de\\_formato.x.x'\n",
       "\\item 'tipo\\_de\\_instrumento'\n",
       "\\item 'categoria'\n",
       "\\item 'tema.y'\n",
       "\\item 'observaciones.y'\n",
       "\\item 'situacion.x.x'\n",
       "\\item 'tipo\\_de\\_formato.y.y'\n",
       "\\item 'observaciones'\n",
       "\\item 'situacion.y.y'\n",
       "\\item 'tipo\\_de\\_formato'\n",
       "\\item 'pgd\\_eje'\n",
       "\\item 'pgd\\_objetivo'\n",
       "\\item 'pgd\\_observaciones'\n",
       "\\item 'pgd\\_motivo\\_rechazo'\n",
       "\\item 'pgot\\_estrategia'\n",
       "\\item 'pgot\\_accion'\n",
       "\\item 'pgot\\_observaciones'\n",
       "\\item 'pgot\\_motivo\\_rechazo'\n",
       "\\item 'situacion'\n",
       "\\end{enumerate*}\n"
      ],
      "text/markdown": [
       "1. 'folio'\n",
       "2. 'tipo_consulta'\n",
       "3. 'forma_de_consulta'\n",
       "4. 'tipo_de_formato.x'\n",
       "5. 'fecha_solicitud'\n",
       "6. 'nombre_del_enlace'\n",
       "7. 'correo_electronico_enlace'\n",
       "8. 'tienen_datos_de_quien_participa'\n",
       "9. 'es_representante'\n",
       "10. 'es_autoridad_representativa'\n",
       "11. 'nombre_del_pueblo_barrio_comunidad'\n",
       "12. 'tipo_en_caso_de_ser_organizacion_publica'\n",
       "13. 'nombre_organizacion_publica'\n",
       "14. 'nombre_participante'\n",
       "15. 'correo_electronico_participante'\n",
       "16. 'ocupacion_participante'\n",
       "17. 'edad_participante'\n",
       "18. 'genero_participante'\n",
       "19. 'alcaldia_participante'\n",
       "20. 'colonia_pueblo_o_barrio_participante'\n",
       "21. 'tipo_de_participacion'\n",
       "22. 'nombre_en_caso_de_ser_taller_foro_o_actividad'\n",
       "23. 'fecha_taller_foro_o_actividad'\n",
       "24. 'lugar_taller_foro_o_actividad'\n",
       "25. 'anexos'\n",
       "26. 'anexos_cuantos'\n",
       "27. 'situacion.x'\n",
       "28. 'tipo_de_formato.y'\n",
       "29. 'tema.x'\n",
       "30. 'subtema'\n",
       "31. 'observaciones.x'\n",
       "32. 'situacion.y'\n",
       "33. 'tipo_de_formato.x.x'\n",
       "34. 'tipo_de_instrumento'\n",
       "35. 'categoria'\n",
       "36. 'tema.y'\n",
       "37. 'observaciones.y'\n",
       "38. 'situacion.x.x'\n",
       "39. 'tipo_de_formato.y.y'\n",
       "40. 'observaciones'\n",
       "41. 'situacion.y.y'\n",
       "42. 'tipo_de_formato'\n",
       "43. 'pgd_eje'\n",
       "44. 'pgd_objetivo'\n",
       "45. 'pgd_observaciones'\n",
       "46. 'pgd_motivo_rechazo'\n",
       "47. 'pgot_estrategia'\n",
       "48. 'pgot_accion'\n",
       "49. 'pgot_observaciones'\n",
       "50. 'pgot_motivo_rechazo'\n",
       "51. 'situacion'\n",
       "\n",
       "\n"
      ],
      "text/plain": [
       " [1] \"folio\"                                        \n",
       " [2] \"tipo_consulta\"                                \n",
       " [3] \"forma_de_consulta\"                            \n",
       " [4] \"tipo_de_formato.x\"                            \n",
       " [5] \"fecha_solicitud\"                              \n",
       " [6] \"nombre_del_enlace\"                            \n",
       " [7] \"correo_electronico_enlace\"                    \n",
       " [8] \"tienen_datos_de_quien_participa\"              \n",
       " [9] \"es_representante\"                             \n",
       "[10] \"es_autoridad_representativa\"                  \n",
       "[11] \"nombre_del_pueblo_barrio_comunidad\"           \n",
       "[12] \"tipo_en_caso_de_ser_organizacion_publica\"     \n",
       "[13] \"nombre_organizacion_publica\"                  \n",
       "[14] \"nombre_participante\"                          \n",
       "[15] \"correo_electronico_participante\"              \n",
       "[16] \"ocupacion_participante\"                       \n",
       "[17] \"edad_participante\"                            \n",
       "[18] \"genero_participante\"                          \n",
       "[19] \"alcaldia_participante\"                        \n",
       "[20] \"colonia_pueblo_o_barrio_participante\"         \n",
       "[21] \"tipo_de_participacion\"                        \n",
       "[22] \"nombre_en_caso_de_ser_taller_foro_o_actividad\"\n",
       "[23] \"fecha_taller_foro_o_actividad\"                \n",
       "[24] \"lugar_taller_foro_o_actividad\"                \n",
       "[25] \"anexos\"                                       \n",
       "[26] \"anexos_cuantos\"                               \n",
       "[27] \"situacion.x\"                                  \n",
       "[28] \"tipo_de_formato.y\"                            \n",
       "[29] \"tema.x\"                                       \n",
       "[30] \"subtema\"                                      \n",
       "[31] \"observaciones.x\"                              \n",
       "[32] \"situacion.y\"                                  \n",
       "[33] \"tipo_de_formato.x.x\"                          \n",
       "[34] \"tipo_de_instrumento\"                          \n",
       "[35] \"categoria\"                                    \n",
       "[36] \"tema.y\"                                       \n",
       "[37] \"observaciones.y\"                              \n",
       "[38] \"situacion.x.x\"                                \n",
       "[39] \"tipo_de_formato.y.y\"                          \n",
       "[40] \"observaciones\"                                \n",
       "[41] \"situacion.y.y\"                                \n",
       "[42] \"tipo_de_formato\"                              \n",
       "[43] \"pgd_eje\"                                      \n",
       "[44] \"pgd_objetivo\"                                 \n",
       "[45] \"pgd_observaciones\"                            \n",
       "[46] \"pgd_motivo_rechazo\"                           \n",
       "[47] \"pgot_estrategia\"                              \n",
       "[48] \"pgot_accion\"                                  \n",
       "[49] \"pgot_observaciones\"                           \n",
       "[50] \"pgot_motivo_rechazo\"                          \n",
       "[51] \"situacion\"                                    "
      ]
     },
     "metadata": {},
     "output_type": "display_data"
    }
   ],
   "source": [
    "any(formato_int_global$folio == 265043)\n",
    "\n",
    "colnames(formato_int_global)"
   ]
  },
  {
   "cell_type": "code",
   "execution_count": null,
   "metadata": {
    "vscode": {
     "languageId": "r"
    }
   },
   "outputs": [],
   "source": []
  },
  {
   "cell_type": "code",
   "execution_count": 70,
   "metadata": {
    "vscode": {
     "languageId": "r"
    }
   },
   "outputs": [],
   "source": [
    "participante <- formato_int_global %>%\n",
    "filter(folio == 265043) %>%\n",
    "select(where(~ !all(is.na(.)))) %>%\n",
    "mutate(across(.fns = as.character)) %>%\n",
    "pivot_longer(cols = everything(), names_to = 'Variables_consulta', values_to = 'Info_participante')\n"
   ]
  },
  {
   "cell_type": "code",
   "execution_count": 67,
   "metadata": {
    "vscode": {
     "languageId": "r"
    }
   },
   "outputs": [
    {
     "name": "stdout",
     "output_type": "stream",
     "text": [
      "\u001b[90m# A tibble: 29 × 2\u001b[39m\n",
      "   Variable                                 Valor                      \n",
      "   \u001b[3m\u001b[90m<chr>\u001b[39m\u001b[23m                                    \u001b[3m\u001b[90m<chr>\u001b[39m\u001b[23m                      \n",
      "\u001b[90m 1\u001b[39m folio                                    265043                     \n",
      "\u001b[90m 2\u001b[39m tipo_consulta                            CONSULTA PUBLICA           \n",
      "\u001b[90m 3\u001b[39m forma_de_consulta                        INDIVIDUAL                 \n",
      "\u001b[90m 4\u001b[39m tipo_de_formato.x                        FORMATO INTERNO            \n",
      "\u001b[90m 5\u001b[39m es_autoridad_representativa              ninguna                    \n",
      "\u001b[90m 6\u001b[39m tipo_en_caso_de_ser_organizacion_publica NINGUNA                    \n",
      "\u001b[90m 7\u001b[39m nombre_participante                      LorenaChávezCruz           \n",
      "\u001b[90m 8\u001b[39m correo_electronico_participante          lorena.chavezcr@outlook.com\n",
      "\u001b[90m 9\u001b[39m genero_participante                      Femenino                   \n",
      "\u001b[90m10\u001b[39m alcaldia_participante                    Tlalpan                    \n",
      "\u001b[90m# ℹ 19 more rows\u001b[39m\n"
     ]
    }
   ],
   "source": [
    "print(participante)"
   ]
  },
  {
   "cell_type": "code",
   "execution_count": 71,
   "metadata": {
    "vscode": {
     "languageId": "r"
    }
   },
   "outputs": [],
   "source": [
    "write_xlsx(participante, 'participante.xlsx')"
   ]
  }
 ],
 "metadata": {
  "kernelspec": {
   "display_name": "R",
   "language": "R",
   "name": "ir"
  },
  "language_info": {
   "codemirror_mode": "r",
   "file_extension": ".r",
   "mimetype": "text/x-r-source",
   "name": "R",
   "pygments_lexer": "r",
   "version": "4.4.2"
  }
 },
 "nbformat": 4,
 "nbformat_minor": 2
}
