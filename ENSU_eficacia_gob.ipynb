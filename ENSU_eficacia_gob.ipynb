{
 "cells": [
  {
   "cell_type": "code",
   "execution_count": 50,
   "metadata": {
    "vscode": {
     "languageId": "r"
    }
   },
   "outputs": [],
   "source": [
    "if(! require('pacman')) install.packages('pacman')\n",
    "pacman::p_load(tidyverse, srvyr, janitor, stringr, readxl, writexl)"
   ]
  },
  {
   "cell_type": "code",
   "execution_count": 10,
   "metadata": {
    "vscode": {
     "languageId": "r"
    }
   },
   "outputs": [],
   "source": [
    "# Función para descomprimir los archivos ZIP y extraer todos los CSV\n",
    "descomprimir_capas <- function(ruta_zip, carpeta_destino) {\n",
    "\n",
    "options(timeout = 9000)\n",
    "\n",
    "  unzip(ruta_zip, exdir = carpeta_destino)\n",
    "  \n",
    "  archivos <- list.files(carpeta_destino, full.names = TRUE)\n",
    "  print('Archivos extraídos del zip principal:')\n",
    "  print(archivos)\n",
    "\n",
    "  zip_files <- archivos[grepl(\"\\\\.zip$\", archivos)]\n",
    "  \n",
    "  if (length(zip_files) > 0) {\n",
    "    carpeta_2 <- file.path(carpeta_destino, \"datos\")\n",
    "    dir.create(carpeta_2, showWarnings = FALSE)\n",
    "\n",
    "    for (zip in zip_files) {\n",
    "      unzip(zip, exdir = carpeta_2)\n",
    "    }\n",
    "\n",
    "    archivos_2 <- list.files(carpeta_2, full.names = TRUE)\n",
    "\n",
    "    csv_files <- archivos_2[grepl(\"^ENSU_CB_\\\\d{4}\\\\.csv$\", basename(archivos_2))]\n",
    "\n",
    "    if (length(csv_files) > 0) {\n",
    "      return(csv_files)\n",
    "    }\n",
    "  }\n",
    "  \n",
    "  return(NULL)\n",
    "}"
   ]
  },
  {
   "cell_type": "code",
   "execution_count": 11,
   "metadata": {
    "vscode": {
     "languageId": "r"
    }
   },
   "outputs": [],
   "source": [
    "#Definición de directorio, años y url\n",
    "dir.create('microdatos_ensu/', showWarnings = FALSE)\n",
    "url_base <- 'https://www.inegi.org.mx/contenidos/programas/ensu/microdatos/ensu_bd_'\n",
    "years <- c(2021:2024)\n",
    "data_list <- list()"
   ]
  },
  {
   "cell_type": "code",
   "execution_count": 12,
   "metadata": {
    "vscode": {
     "languageId": "r"
    }
   },
   "outputs": [
    {
     "name": "stdout",
     "output_type": "stream",
     "text": [
      "[1] \"Archivos extraídos del zip principal:\"\n",
      "[1] \"microdatos_ensu/2021/datos\"                          \n",
      "[2] \"microdatos_ensu/2021/ensu_bd_diciembre_2021_csv.zip\" \n",
      "[3] \"microdatos_ensu/2021/ensu_bd_junio_2021_csv.zip\"     \n",
      "[4] \"microdatos_ensu/2021/ensu_bd_septiembre_2021_csv.zip\"\n",
      "[1] \"Leyendo archivo: microdatos_ensu/2021/datos/ENSU_CB_0621.csv\"\n"
     ]
    },
    {
     "name": "stderr",
     "output_type": "stream",
     "text": [
      "\u001b[1m\u001b[22mNew names:\n",
      "\u001b[36m•\u001b[39m `` -> `...1`\n"
     ]
    },
    {
     "name": "stdout",
     "output_type": "stream",
     "text": [
      "[1] \"Leyendo archivo: microdatos_ensu/2021/datos/ENSU_CB_0921.csv\"\n"
     ]
    },
    {
     "name": "stderr",
     "output_type": "stream",
     "text": [
      "\u001b[1m\u001b[22mNew names:\n",
      "\u001b[36m•\u001b[39m `` -> `...1`\n",
      "Warning message:\n",
      "\"\u001b[1m\u001b[22mOne or more parsing issues, call `problems()` on your data frame for details,\n",
      "e.g.:\n",
      "  dat <- vroom(...)\n",
      "  problems(dat)\"\n"
     ]
    },
    {
     "name": "stdout",
     "output_type": "stream",
     "text": [
      "[1] \"Leyendo archivo: microdatos_ensu/2021/datos/ENSU_CB_1221.csv\"\n"
     ]
    },
    {
     "name": "stderr",
     "output_type": "stream",
     "text": [
      "\u001b[1m\u001b[22mNew names:\n",
      "\u001b[36m•\u001b[39m `` -> `...1`\n"
     ]
    },
    {
     "name": "stdout",
     "output_type": "stream",
     "text": [
      "[1] \"Archivos extraídos del zip principal:\"\n",
      "[1] \"microdatos_ensu/2022/datos\"                          \n",
      "[2] \"microdatos_ensu/2022/ensu_bd_diciembre_2022_csv.zip\" \n",
      "[3] \"microdatos_ensu/2022/ensu_bd_junio_2022_csv.zip\"     \n",
      "[4] \"microdatos_ensu/2022/ensu_bd_marzo_2022_csv.zip\"     \n",
      "[5] \"microdatos_ensu/2022/ensu_bd_septiembre_2022_csv.zip\"\n",
      "[1] \"Leyendo archivo: microdatos_ensu/2022/datos/ENSU_CB_0322.csv\"\n"
     ]
    },
    {
     "name": "stderr",
     "output_type": "stream",
     "text": [
      "\u001b[1m\u001b[22mNew names:\n",
      "\u001b[36m•\u001b[39m `` -> `...1`\n"
     ]
    },
    {
     "name": "stdout",
     "output_type": "stream",
     "text": [
      "[1] \"Leyendo archivo: microdatos_ensu/2022/datos/ENSU_CB_0622.csv\"\n"
     ]
    },
    {
     "name": "stderr",
     "output_type": "stream",
     "text": [
      "\u001b[1m\u001b[22mNew names:\n",
      "\u001b[36m•\u001b[39m `` -> `...1`\n"
     ]
    },
    {
     "name": "stdout",
     "output_type": "stream",
     "text": [
      "[1] \"Leyendo archivo: microdatos_ensu/2022/datos/ENSU_CB_0922.csv\"\n"
     ]
    },
    {
     "name": "stderr",
     "output_type": "stream",
     "text": [
      "\u001b[1m\u001b[22mNew names:\n",
      "\u001b[36m•\u001b[39m `` -> `...1`\n",
      "Warning message:\n",
      "\"\u001b[1m\u001b[22mOne or more parsing issues, call `problems()` on your data frame for details,\n",
      "e.g.:\n",
      "  dat <- vroom(...)\n",
      "  problems(dat)\"\n"
     ]
    },
    {
     "name": "stdout",
     "output_type": "stream",
     "text": [
      "[1] \"Leyendo archivo: microdatos_ensu/2022/datos/ENSU_CB_1222.csv\"\n"
     ]
    },
    {
     "name": "stderr",
     "output_type": "stream",
     "text": [
      "\u001b[1m\u001b[22mNew names:\n",
      "\u001b[36m•\u001b[39m `` -> `...1`\n"
     ]
    },
    {
     "name": "stdout",
     "output_type": "stream",
     "text": [
      "[1] \"Archivos extraídos del zip principal:\"\n",
      "[1] \"microdatos_ensu/2023/datos\"                          \n",
      "[2] \"microdatos_ensu/2023/ensu_bd_diciembre_2023_csv.zip\" \n",
      "[3] \"microdatos_ensu/2023/ensu_bd_junio_2023_csv.zip\"     \n",
      "[4] \"microdatos_ensu/2023/ensu_bd_marzo_2023_csv.zip\"     \n",
      "[5] \"microdatos_ensu/2023/ensu_bd_septiembre_2023_csv.zip\"\n",
      "[1] \"Leyendo archivo: microdatos_ensu/2023/datos/ENSU_CB_0323.csv\"\n"
     ]
    },
    {
     "name": "stderr",
     "output_type": "stream",
     "text": [
      "\u001b[1m\u001b[22mNew names:\n",
      "\u001b[36m•\u001b[39m `` -> `...1`\n"
     ]
    },
    {
     "name": "stdout",
     "output_type": "stream",
     "text": [
      "[1] \"Leyendo archivo: microdatos_ensu/2023/datos/ENSU_CB_0623.csv\"\n"
     ]
    },
    {
     "name": "stderr",
     "output_type": "stream",
     "text": [
      "\u001b[1m\u001b[22mNew names:\n",
      "\u001b[36m•\u001b[39m `` -> `...1`\n"
     ]
    },
    {
     "name": "stdout",
     "output_type": "stream",
     "text": [
      "[1] \"Leyendo archivo: microdatos_ensu/2023/datos/ENSU_CB_0923.csv\"\n"
     ]
    },
    {
     "name": "stderr",
     "output_type": "stream",
     "text": [
      "\u001b[1m\u001b[22mNew names:\n",
      "\u001b[36m•\u001b[39m `` -> `...1`\n",
      "Warning message:\n",
      "\"\u001b[1m\u001b[22mOne or more parsing issues, call `problems()` on your data frame for details,\n",
      "e.g.:\n",
      "  dat <- vroom(...)\n",
      "  problems(dat)\"\n"
     ]
    },
    {
     "name": "stdout",
     "output_type": "stream",
     "text": [
      "[1] \"Leyendo archivo: microdatos_ensu/2023/datos/ENSU_CB_1223.csv\"\n",
      "[1] \"Archivos extraídos del zip principal:\"\n",
      "[1] \"microdatos_ensu/2024/datos\"                          \n",
      "[2] \"microdatos_ensu/2024/ensu_bd_diciembre_2024_csv.zip\" \n",
      "[3] \"microdatos_ensu/2024/ensu_bd_junio_2024_csv.zip\"     \n",
      "[4] \"microdatos_ensu/2024/ensu_bd_marzo_2024_csv.zip\"     \n",
      "[5] \"microdatos_ensu/2024/ensu_bd_septiembre_2024_csv.zip\"\n",
      "[1] \"Leyendo archivo: microdatos_ensu/2024/datos/ENSU_CB_0324.csv\"\n",
      "[1] \"Leyendo archivo: microdatos_ensu/2024/datos/ENSU_CB_0624.csv\"\n",
      "[1] \"Leyendo archivo: microdatos_ensu/2024/datos/ENSU_CB_0924.csv\"\n"
     ]
    },
    {
     "name": "stderr",
     "output_type": "stream",
     "text": [
      "Warning message:\n",
      "\"\u001b[1m\u001b[22mOne or more parsing issues, call `problems()` on your data frame for details,\n",
      "e.g.:\n",
      "  dat <- vroom(...)\n",
      "  problems(dat)\"\n"
     ]
    },
    {
     "name": "stdout",
     "output_type": "stream",
     "text": [
      "[1] \"Leyendo archivo: microdatos_ensu/2024/datos/ENSU_CB_1224.csv\"\n"
     ]
    }
   ],
   "source": [
    "# Descargar y procesar los datos por año y trimestre\n",
    "for (year in years) {\n",
    "  fin <- '_csv.zip'\n",
    "  destfile <- paste0('microdatos_ensu/', year, fin)\n",
    "  folder <- paste0('microdatos_ensu/', year)\n",
    "  \n",
    "  dir.create(folder, showWarnings = FALSE)\n",
    "\n",
    "  download.file(paste0(url_base, year, fin), destfile, mode = 'wb')\n",
    "  \n",
    "  archivos_csv <- descomprimir_capas(destfile, folder)\n",
    "  \n",
    "  if (!is.null(archivos_csv)) {\n",
    "    data_list[[as.character(year)]] <- list()  # Crear una sublista por año\n",
    "    \n",
    "    for (file in archivos_csv) {\n",
    "      print(paste('Leyendo archivo:', file))\n",
    "      \n",
    "      datos <- read_csv(file, show_col_types = FALSE)\n",
    "      \n",
    "      # Par leer los csv para bo_efectivo, leer solo las tablas con ENSU_CB_MMYY.csv\n",
    "      trimestre <- case_when(\n",
    "        grepl(\"03\\\\d{2}\", basename(file)) ~ \"T1\",\n",
    "        grepl(\"06\\\\d{2}\", basename(file)) ~ \"T2\",\n",
    "        grepl(\"09\\\\d{2}\", basename(file)) ~ \"T3\",\n",
    "        grepl(\"12\\\\d{2}\", basename(file)) ~ \"T4\",\n",
    "        TRUE ~ \"Desconocido\"\n",
    "      )\n",
    "      \n",
    "      data_list[[as.character(year)]][[trimestre]] <- datos\n",
    "      \n",
    "    }\n",
    "  } else {\n",
    "    message('No se encontraron archivos CSV ENSU_CB_ para el año ', year)\n",
    "  }\n",
    "}\n"
   ]
  },
  {
   "cell_type": "code",
   "execution_count": 13,
   "metadata": {
    "vscode": {
     "languageId": "r"
    }
   },
   "outputs": [
    {
     "name": "stderr",
     "output_type": "stream",
     "text": [
      "\u001b[1mRows: \u001b[22m\u001b[34m24022\u001b[39m \u001b[1mColumns: \u001b[22m\u001b[34m145\u001b[39m\n",
      "\u001b[36m──\u001b[39m \u001b[1mColumn specification\u001b[22m \u001b[36m────────────────────────────────────────────────────────\u001b[39m\n",
      "\u001b[1mDelimiter:\u001b[22m \",\"\n",
      "\u001b[31mchr\u001b[39m  (22): ID_VIV, ID_PER, UPM, VIV_SEL, R_SEL, CVE_ENT, NOM_ENT, CVE_MUN, N...\n",
      "\u001b[32mdbl\u001b[39m (123): H_MUD, S_MUD, N_ENT, SEXO, EDAD, BP1_1, BP1_2_01, BP1_2_02, BP1_2...\n",
      "\n",
      "\u001b[36mℹ\u001b[39m Use `spec()` to retrieve the full column specification for this data.\n",
      "\u001b[36mℹ\u001b[39m Specify the column types or set `show_col_types = FALSE` to quiet this message.\n",
      "\u001b[1mRows: \u001b[22m\u001b[34m24114\u001b[39m \u001b[1mColumns: \u001b[22m\u001b[34m149\u001b[39m\n",
      "\u001b[36m──\u001b[39m \u001b[1mColumn specification\u001b[22m \u001b[36m────────────────────────────────────────────────────────\u001b[39m\n",
      "\u001b[1mDelimiter:\u001b[22m \",\"\n",
      "\u001b[31mchr\u001b[39m  (21): ID_VIV, ID_PER, UPM, VIV_SEL, R_SEL, ID_VIVT, ID_PERT, CVE_ENT, N...\n",
      "\u001b[32mdbl\u001b[39m (128): H_MUD, S_MUD, N_ENT, SEXO, EDAD, BP1_1, BP1_2_01, BP1_2_02, BP1_2...\n",
      "\n",
      "\u001b[36mℹ\u001b[39m Use `spec()` to retrieve the full column specification for this data.\n",
      "\u001b[36mℹ\u001b[39m Specify the column types or set `show_col_types = FALSE` to quiet this message.\n",
      "Warning message:\n",
      "\"\u001b[1m\u001b[22mOne or more parsing issues, call `problems()` on your data frame for details,\n",
      "e.g.:\n",
      "  dat <- vroom(...)\n",
      "  problems(dat)\"\n",
      "\u001b[1mRows: \u001b[22m\u001b[34m24096\u001b[39m \u001b[1mColumns: \u001b[22m\u001b[34m245\u001b[39m\n",
      "\u001b[36m──\u001b[39m \u001b[1mColumn specification\u001b[22m \u001b[36m────────────────────────────────────────────────────────\u001b[39m\n",
      "\u001b[1mDelimiter:\u001b[22m \",\"\n",
      "\u001b[31mchr\u001b[39m  (35): ID_VIV, ID_PER, UPM, VIV_SEL, R_SEL, ID_VIVT, ID_PERT, CVE_ENT, N...\n",
      "\u001b[32mdbl\u001b[39m (207): H_MUD, S_MUD, N_ENT, SEXO, EDAD, BP1_1, BP1_2_01, BP1_2_02, BP1_2...\n",
      "\u001b[33mlgl\u001b[39m   (3): BP4_4_5_3, BP4_4_6_2, BP4_4_6_3\n",
      "\n",
      "\u001b[36mℹ\u001b[39m Use `spec()` to retrieve the full column specification for this data.\n",
      "\u001b[36mℹ\u001b[39m Specify the column types or set `show_col_types = FALSE` to quiet this message.\n",
      "\u001b[1mRows: \u001b[22m\u001b[34m23451\u001b[39m \u001b[1mColumns: \u001b[22m\u001b[34m150\u001b[39m\n",
      "\u001b[36m──\u001b[39m \u001b[1mColumn specification\u001b[22m \u001b[36m────────────────────────────────────────────────────────\u001b[39m\n",
      "\u001b[1mDelimiter:\u001b[22m \",\"\n",
      "\u001b[31mchr\u001b[39m  (20): ID_VIV, ID_PER, UPM, VIV_SEL, R_SEL, ID_VIVT, ID_PERT, CVE_ENT, N...\n",
      "\u001b[32mdbl\u001b[39m (130): H_MUD, S_MUD, N_ENT, SEXO, EDAD, BP1_1, BP1_2_01, BP1_2_02, BP1_2...\n",
      "\n",
      "\u001b[36mℹ\u001b[39m Use `spec()` to retrieve the full column specification for this data.\n",
      "\u001b[36mℹ\u001b[39m Specify the column types or set `show_col_types = FALSE` to quiet this message.\n"
     ]
    }
   ],
   "source": [
    "datos <- archivos_csv %>% lapply(read_csv)"
   ]
  },
  {
   "cell_type": "code",
   "execution_count": 65,
   "metadata": {
    "vscode": {
     "languageId": "r"
    }
   },
   "outputs": [],
   "source": [
    "variables <- list() #Lista para filtrar y seleccionar las variables que necesitamos para bog_efec\n",
    "PobTot <- list() #Lista para vaciar valores de pob_total\n",
    "GobEfectivo <- list() #Lista para vaciar los valores de gob_efect"
   ]
  },
  {
   "cell_type": "code",
   "execution_count": 66,
   "metadata": {
    "vscode": {
     "languageId": "r"
    }
   },
   "outputs": [],
   "source": [
    "for(i in seq_along(datos)) {\n",
    "    variables[[i]] <- datos[[i]] %>%\n",
    "    clean_names() %>%\n",
    "      select(edad, upm, viv_sel, cve_ent, cve_mun, nom_cd, r_def, bp3_2, fac_sel) %>%\n",
    "      filter(cve_ent == '09', edad >= 18) %>% \n",
    "      mutate(fecha = str_sub(basename(archivos_csv[[i]]), 9, 12))\n",
    "\n",
    "    PobTot[[i]] <- variables[[i]] %>%\n",
    "      group_by(cve_mun, nom_cd, fecha) %>%\n",
    "      summarise(pob_total = sum(fac_sel, na.rm = TRUE), .groups = 'drop')\n",
    "\n",
    "    GobEfectivo[[i]] <- variables[[i]] %>%\n",
    "      filter(bp3_2 %in% c(1,2)) %>%\n",
    "      group_by(cve_mun, nom_cd, fecha) %>%\n",
    "      summarise(efectivo = sum(fac_sel, na.rm = TRUE), .groups = 'drop')\n",
    "\n",
    "}\n"
   ]
  },
  {
   "cell_type": "code",
   "execution_count": 74,
   "metadata": {
    "vscode": {
     "languageId": "r"
    }
   },
   "outputs": [],
   "source": [
    "tablas <- list()  # Lista para almacenar las tablas previamente definidas\n"
   ]
  },
  {
   "cell_type": "code",
   "execution_count": 75,
   "metadata": {
    "vscode": {
     "languageId": "r"
    }
   },
   "outputs": [],
   "source": [
    "\n",
    "for (i in seq_along(PobTot)) {\n",
    "\n",
    "    tablas[[i]] <- left_join(PobTot[[i]], GobEfectivo[[i]], by = c('nom_cd', 'fecha')) %>%\n",
    "    mutate(porcent = efectivo * 100 / pob_total) %>%\n",
    "    mutate(fecha = paste0('01', fecha), fecha = dmy(fecha)) %>%\n",
    "    mutate(fecha = format(as.Date(fecha), '%m-%Y')) %>%\n",
    "    select(fecha, nom_cd, pob_total, efectivo, porcent)\n",
    "        \n",
    "}\n"
   ]
  },
  {
   "cell_type": "code",
   "execution_count": 76,
   "metadata": {
    "vscode": {
     "languageId": "r"
    }
   },
   "outputs": [],
   "source": [
    "dataframes_alcaldias <- list()\n",
    "\n",
    "for (i in seq_along(tablas)) {\n",
    "    alcaldias <- unique(tablas[[i]]$nom_cd)\n",
    "    \n",
    "    for (alcaldia in alcaldias) {\n",
    "        df_alcaldia <- tablas[[i]] %>% filter(nom_cd == alcaldia)\n",
    "\n",
    "        if (!is.null(dataframes_alcaldias[[alcaldia]])) {\n",
    "            dataframes_alcaldias[[alcaldia]] <- bind_rows(dataframes_alcaldias[[alcaldia]], df_alcaldia)\n",
    "        } else {\n",
    "            dataframes_alcaldias[[alcaldia]] <- df_alcaldia\n",
    "        }\n",
    "    }\n",
    "}"
   ]
  },
  {
   "cell_type": "code",
   "execution_count": 77,
   "metadata": {
    "vscode": {
     "languageId": "r"
    }
   },
   "outputs": [],
   "source": [
    "#Guardar los csv para subirlos (después) al sistema de indicadores\n",
    "dir.create('microdatos_ensu/resultados_alcaldias', showWarnings = FALSE)  # Crear carpeta\n",
    "\n",
    "for (year in names(data_list)) {\n",
    "    for (trimestre in names(data_list[[year]])) {\n",
    "        for (alcaldia in names(dataframes_alcaldias)) {\n",
    "            write.csv(dataframes_alcaldias[[alcaldia]], \n",
    "                      file = paste0('microdatos_ensu/resultados_alcaldias/', \n",
    "                                    alcaldia, '_', year, '_', trimestre, '.csv'), \n",
    "                      row.names = FALSE)\n",
    "        }\n",
    "    }\n",
    "}\n"
   ]
  }
 ],
 "metadata": {
  "kernelspec": {
   "display_name": "R",
   "language": "R",
   "name": "ir"
  },
  "language_info": {
   "codemirror_mode": "r",
   "file_extension": ".r",
   "mimetype": "text/x-r-source",
   "name": "R",
   "pygments_lexer": "r",
   "version": "4.4.2"
  }
 },
 "nbformat": 4,
 "nbformat_minor": 2
}
